{
 "cells": [
  {
   "cell_type": "code",
   "execution_count": null,
   "metadata": {},
   "outputs": [],
   "source": [
    "%matplotlib notebook\n",
    "import torch\n",
    "import torch.nn as nn\n",
    "import numpy as np\n",
    "from torch.autograd import Variable\n",
    "import pickle\n",
    "from PIL import Image\n",
    "import matplotlib.pyplot as plt\n",
    "import json\n",
    "import os\n",
    "import collections\n",
    "import math"
   ]
  },
  {
   "cell_type": "code",
   "execution_count": null,
   "metadata": {},
   "outputs": [],
   "source": [
    "pr= open ('our_answers','r')\n",
    "preds=pickle.load(pr)\n",
    "pr.close()\n",
    "ans= open ('trainval_label2ans.pkl','r')\n",
    "labels=pickle.load(ans)\n",
    "ans.close()"
   ]
  },
  {
   "cell_type": "code",
   "execution_count": null,
   "metadata": {},
   "outputs": [],
   "source": [
    "def original_question(k):\n",
    "    dataset_root = '/datasets/ee285f-public/VQA2017/v2_OpenEnded_mscoco_val2014_questions.json'\n",
    "    q_ids=[42000,73001,74001,133000,136001,73000]\n",
    "    with open(dataset_root) as f:\n",
    "        c = list(json.load(f)['questions'])\n",
    "        for i in range(len(c)):\n",
    "            if c[i]['question_id']==q_ids[k]:\n",
    "                print('Question is:')\n",
    "                print(c[i]['question'])\n",
    "                break\n"
   ]
  },
  {
   "cell_type": "code",
   "execution_count": null,
   "metadata": {},
   "outputs": [],
   "source": [
    "def my_answer(k):\n",
    "    pred=preds[k].data\n",
    "    pred=pred.cpu().numpy()\n",
    "    idx=np.argmax(pred)\n",
    "    print('The network answer is:')\n",
    "    print(labels[idx])"
   ]
  },
  {
   "cell_type": "code",
   "execution_count": null,
   "metadata": {},
   "outputs": [],
   "source": [
    "def original_image(k):\n",
    "    dataset_root_dir = '/datasets/ee285f-public/VQA2017/val2014'\n",
    "    img_ids=['000000000042','000000000073','000000000074','000000000133','000000000136','000000000073']\n",
    "    img_path = os.path.join(dataset_root_dir, 'COCO_val2014_'+img_ids[k]+'.jpg') \n",
    "    img = Image.open( img_path ).convert('RGB')\n",
    "    plt.figure()\n",
    "    plt.imshow(img)"
   ]
  },
  {
   "cell_type": "code",
   "execution_count": null,
   "metadata": {},
   "outputs": [],
   "source": [
    "def correct_answer(k):\n",
    "    dataset_root = '/datasets/ee285f-public/VQA2017/v2_mscoco_val2014_annotations.json'\n",
    "    q_ids=[42000,73001,74001,133000,136001,73000]\n",
    "    with open(dataset_root) as f:\n",
    "        c = list(json.load(f)['annotations'])\n",
    "        for i in range(len(c)):\n",
    "            if c[i]['question_id']==q_ids[k]: \n",
    "                mylist=[]\n",
    "                for j in range(10):\n",
    "                    mylist.append(c[i]['answers'][j]['answer'])    \n",
    "                counter=collections.Counter(mylist)\n",
    "                print('\\npeople answers are/is:')\n",
    "                for obj in counter.keys():\n",
    "                    print(obj)\n",
    "                print('\\nconfidence level of people answers is:')\n",
    "                print(np.array(counter.values())/10.)\n",
    "                break\n",
    "\n"
   ]
  },
  {
   "cell_type": "markdown",
   "metadata": {},
   "source": [
    "## Success sample 1:"
   ]
  },
  {
   "cell_type": "code",
   "execution_count": null,
   "metadata": {},
   "outputs": [],
   "source": [
    "print('Test image number 1:')\n",
    "original_image(1)\n",
    "original_question(1)\n",
    "my_answer(2)\n",
    "correct_answer(1)"
   ]
  },
  {
   "cell_type": "markdown",
   "metadata": {},
   "source": [
    "## Success sample 2:"
   ]
  },
  {
   "cell_type": "code",
   "execution_count": null,
   "metadata": {},
   "outputs": [],
   "source": [
    "print('Test image number 2:')\n",
    "original_image(2)\n",
    "original_question(2)\n",
    "my_answer(3)\n",
    "correct_answer(2)"
   ]
  },
  {
   "cell_type": "markdown",
   "metadata": {},
   "source": [
    "## Success sample 3:"
   ]
  },
  {
   "cell_type": "code",
   "execution_count": null,
   "metadata": {},
   "outputs": [],
   "source": [
    "print('Test image number 3:')\n",
    "original_image(3)\n",
    "original_question(3)\n",
    "my_answer(4)\n",
    "correct_answer(3)"
   ]
  },
  {
   "cell_type": "markdown",
   "metadata": {},
   "source": [
    "## Success sample 4:"
   ]
  },
  {
   "cell_type": "code",
   "execution_count": null,
   "metadata": {
    "scrolled": false
   },
   "outputs": [],
   "source": [
    "print('Test image number 4:')\n",
    "original_image(4)\n",
    "original_question(4)\n",
    "my_answer(5)\n",
    "correct_answer(4)"
   ]
  },
  {
   "cell_type": "markdown",
   "metadata": {},
   "source": [
    "## Fialure example 1:"
   ]
  },
  {
   "cell_type": "code",
   "execution_count": null,
   "metadata": {
    "scrolled": false
   },
   "outputs": [],
   "source": [
    "print('Test image number 4:')\n",
    "original_image(0)\n",
    "original_question(0)\n",
    "my_answer(0)\n",
    "correct_answer(0)\n"
   ]
  },
  {
   "cell_type": "markdown",
   "metadata": {},
   "source": [
    "## Failure sample 2:"
   ]
  },
  {
   "cell_type": "code",
   "execution_count": null,
   "metadata": {},
   "outputs": [],
   "source": [
    "print('Test image number 5:')\n",
    "original_image(5)\n",
    "original_question(5)\n",
    "my_answer(1)\n",
    "correct_answer(5)"
   ]
  }
 ],
 "metadata": {
  "kernelspec": {
   "display_name": "Python 2",
   "language": "python",
   "name": "python2"
  },
  "language_info": {
   "codemirror_mode": {
    "name": "ipython",
    "version": 2
   },
   "file_extension": ".py",
   "mimetype": "text/x-python",
   "name": "python",
   "nbconvert_exporter": "python",
   "pygments_lexer": "ipython2",
   "version": "2.7.14"
  }
 },
 "nbformat": 4,
 "nbformat_minor": 2
}
